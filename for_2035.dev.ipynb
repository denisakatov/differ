{
 "cells": [
  {
   "cell_type": "code",
   "execution_count": 289,
   "metadata": {},
   "outputs": [],
   "source": [
    "# Какая доменная зона популярнее всего среди проектов-участников? А вторая по популярности? А третья?"
   ]
  },
  {
   "cell_type": "code",
   "execution_count": 1,
   "metadata": {},
   "outputs": [],
   "source": [
    "from bs4 import BeautifulSoup as bs\n",
    "import requests\n",
    "from pprint import pprint\n",
    "import re\n",
    "import collections"
   ]
  },
  {
   "cell_type": "code",
   "execution_count": 2,
   "metadata": {},
   "outputs": [],
   "source": [
    "url = 'https://2035.dev/'\n",
    "response = requests.get(url)\n",
    "response.encoding= 'utf-8'\n",
    "page = response.text\n"
   ]
  },
  {
   "cell_type": "markdown",
   "metadata": {},
   "source": [
    "# Какая доменная зона популярнее всего среди проектов-участников? А вторая по популярности? А третья?"
   ]
  },
  {
   "cell_type": "code",
   "execution_count": 3,
   "metadata": {},
   "outputs": [],
   "source": [
    "# Сделаем список из сайтов партнеров используя регулярные выражения."
   ]
  },
  {
   "cell_type": "code",
   "execution_count": 4,
   "metadata": {},
   "outputs": [],
   "source": [
    "soup2 = bs(page)\n",
    "list_of_clients = []\n",
    "for link in soup2.find_all('a'):\n",
    "    list_of_clients.append(link.get('href'))"
   ]
  },
  {
   "cell_type": "code",
   "execution_count": 5,
   "metadata": {},
   "outputs": [
    {
     "data": {
      "text/plain": [
       "['/',\n",
       " '/contacts',\n",
       " '/wp',\n",
       " '/en',\n",
       " 'https://www.rvc.ru/',\n",
       " 'https://worldskills.ru/',\n",
       " 'https://data-economy.ru/',\n",
       " 'https://2035.university/',\n",
       " 'https://skyeng.ru/',\n",
       " 'https://www.redmadrobot.ru/',\n",
       " 'https://dodopizza.ru/',\n",
       " 'https://www.artlebedev.ru/',\n",
       " 'https://www.facebook.com/2035nti/',\n",
       " 'https://leader-id.ru/points/',\n",
       " 'https://leader-id.ru',\n",
       " 'https://nti-contest.ru/',\n",
       " 'http://ostrov.2035.university',\n",
       " 'http://atlas100.ru',\n",
       " 'https://worldskills2019.com/ru/',\n",
       " 'http://eco.2035.dev/',\n",
       " 'http://upgreat.one/',\n",
       " 'https://cdo.rf2035.net/',\n",
       " 'https://actum.online/',\n",
       " 'https://nti-contest.ru/students/',\n",
       " 'https://sk.ru/academy/',\n",
       " 'https://rukamifest.com/',\n",
       " 'http://dc.2035.university/',\n",
       " 'http://skvot.2035.university/',\n",
       " 'https://nti-contest.ru/',\n",
       " 'https://sochisirius.ru/',\n",
       " 'https://www.roskvantorium.ru/',\n",
       " 'https://vk.com/practicing_futures',\n",
       " 'https://rukamifest.com/',\n",
       " 'https://id.talent.kruzhok.org/',\n",
       " 'http://vyzov2035.ru/',\n",
       " 'https://kruzhok.org/iniciativy/post/associaciya',\n",
       " 'http://project.lektorium.tv/tutor',\n",
       " 'https://sk.ru/academy/p/hackaton-project.aspx',\n",
       " 'https://www.lektorium.tv/rukami',\n",
       " 'http://nti-lesson.ru/',\n",
       " 'https://sk.ru/academy/',\n",
       " 'https://rukamifest.com/program',\n",
       " 'https://leader-id.ru/poll/nti_experts/',\n",
       " 'https://labs.2035.university/',\n",
       " 'https://rf2035.net/labs',\n",
       " 'http://intensive.2035.university',\n",
       " 'http://www.nti2035.ru/docs/2019_Regstandart_NTI_methodrec.pdf',\n",
       " 'https://leader-id.ru/poll/opentboil/',\n",
       " 'http://mindclubs.com/',\n",
       " 'https://leader-id.ru/specials/tell-me/',\n",
       " 'http://projects.nti2035.ru/',\n",
       " '/',\n",
       " '/contacts',\n",
       " 'https://vc.ru/s/platforma-nti/vacancies',\n",
       " None]"
      ]
     },
     "execution_count": 5,
     "metadata": {},
     "output_type": "execute_result"
    }
   ],
   "source": [
    "list_of_clients"
   ]
  },
  {
   "cell_type": "code",
   "execution_count": 6,
   "metadata": {},
   "outputs": [],
   "source": [
    "# Далее удалим лишнее"
   ]
  },
  {
   "cell_type": "code",
   "execution_count": 7,
   "metadata": {},
   "outputs": [],
   "source": [
    "#Так как 4 элемента с конца и 4 элемента сначала, то можно удалить одним циклом\n",
    "for i in  range(4):\n",
    "    list_of_clients.pop(0)# По индексу с начала\n",
    "    list_of_clients.pop()# По индексу с конца\n",
    "\n",
    "    "
   ]
  },
  {
   "cell_type": "code",
   "execution_count": 8,
   "metadata": {},
   "outputs": [
    {
     "data": {
      "text/plain": [
       "['https://www.rvc.ru/',\n",
       " 'https://worldskills.ru/',\n",
       " 'https://data-economy.ru/',\n",
       " 'https://2035.university/',\n",
       " 'https://skyeng.ru/',\n",
       " 'https://www.redmadrobot.ru/',\n",
       " 'https://dodopizza.ru/',\n",
       " 'https://www.artlebedev.ru/',\n",
       " 'https://www.facebook.com/2035nti/',\n",
       " 'https://leader-id.ru/points/',\n",
       " 'https://leader-id.ru',\n",
       " 'https://nti-contest.ru/',\n",
       " 'http://ostrov.2035.university',\n",
       " 'http://atlas100.ru',\n",
       " 'https://worldskills2019.com/ru/',\n",
       " 'http://eco.2035.dev/',\n",
       " 'http://upgreat.one/',\n",
       " 'https://cdo.rf2035.net/',\n",
       " 'https://actum.online/',\n",
       " 'https://nti-contest.ru/students/',\n",
       " 'https://sk.ru/academy/',\n",
       " 'https://rukamifest.com/',\n",
       " 'http://dc.2035.university/',\n",
       " 'http://skvot.2035.university/',\n",
       " 'https://nti-contest.ru/',\n",
       " 'https://sochisirius.ru/',\n",
       " 'https://www.roskvantorium.ru/',\n",
       " 'https://vk.com/practicing_futures',\n",
       " 'https://rukamifest.com/',\n",
       " 'https://id.talent.kruzhok.org/',\n",
       " 'http://vyzov2035.ru/',\n",
       " 'https://kruzhok.org/iniciativy/post/associaciya',\n",
       " 'http://project.lektorium.tv/tutor',\n",
       " 'https://sk.ru/academy/p/hackaton-project.aspx',\n",
       " 'https://www.lektorium.tv/rukami',\n",
       " 'http://nti-lesson.ru/',\n",
       " 'https://sk.ru/academy/',\n",
       " 'https://rukamifest.com/program',\n",
       " 'https://leader-id.ru/poll/nti_experts/',\n",
       " 'https://labs.2035.university/',\n",
       " 'https://rf2035.net/labs',\n",
       " 'http://intensive.2035.university',\n",
       " 'http://www.nti2035.ru/docs/2019_Regstandart_NTI_methodrec.pdf',\n",
       " 'https://leader-id.ru/poll/opentboil/',\n",
       " 'http://mindclubs.com/',\n",
       " 'https://leader-id.ru/specials/tell-me/',\n",
       " 'http://projects.nti2035.ru/']"
      ]
     },
     "execution_count": 8,
     "metadata": {},
     "output_type": "execute_result"
    }
   ],
   "source": [
    "# Проверяем\n",
    "list_of_clients"
   ]
  },
  {
   "cell_type": "code",
   "execution_count": 9,
   "metadata": {},
   "outputs": [],
   "source": [
    "# Отсортируем чтобы посмотреть нет ли дублей"
   ]
  },
  {
   "cell_type": "code",
   "execution_count": 10,
   "metadata": {},
   "outputs": [
    {
     "data": {
      "text/plain": [
       "['http://atlas100.ru',\n",
       " 'http://dc.2035.university/',\n",
       " 'http://eco.2035.dev/',\n",
       " 'http://intensive.2035.university',\n",
       " 'http://mindclubs.com/',\n",
       " 'http://nti-lesson.ru/',\n",
       " 'http://ostrov.2035.university',\n",
       " 'http://project.lektorium.tv/tutor',\n",
       " 'http://projects.nti2035.ru/',\n",
       " 'http://skvot.2035.university/',\n",
       " 'http://upgreat.one/',\n",
       " 'http://vyzov2035.ru/',\n",
       " 'http://www.nti2035.ru/docs/2019_Regstandart_NTI_methodrec.pdf',\n",
       " 'https://2035.university/',\n",
       " 'https://actum.online/',\n",
       " 'https://cdo.rf2035.net/',\n",
       " 'https://data-economy.ru/',\n",
       " 'https://dodopizza.ru/',\n",
       " 'https://id.talent.kruzhok.org/',\n",
       " 'https://kruzhok.org/iniciativy/post/associaciya',\n",
       " 'https://labs.2035.university/',\n",
       " 'https://leader-id.ru',\n",
       " 'https://leader-id.ru/points/',\n",
       " 'https://leader-id.ru/poll/nti_experts/',\n",
       " 'https://leader-id.ru/poll/opentboil/',\n",
       " 'https://leader-id.ru/specials/tell-me/',\n",
       " 'https://nti-contest.ru/',\n",
       " 'https://nti-contest.ru/',\n",
       " 'https://nti-contest.ru/students/',\n",
       " 'https://rf2035.net/labs',\n",
       " 'https://rukamifest.com/',\n",
       " 'https://rukamifest.com/',\n",
       " 'https://rukamifest.com/program',\n",
       " 'https://sk.ru/academy/',\n",
       " 'https://sk.ru/academy/',\n",
       " 'https://sk.ru/academy/p/hackaton-project.aspx',\n",
       " 'https://skyeng.ru/',\n",
       " 'https://sochisirius.ru/',\n",
       " 'https://vk.com/practicing_futures',\n",
       " 'https://worldskills.ru/',\n",
       " 'https://worldskills2019.com/ru/',\n",
       " 'https://www.artlebedev.ru/',\n",
       " 'https://www.facebook.com/2035nti/',\n",
       " 'https://www.lektorium.tv/rukami',\n",
       " 'https://www.redmadrobot.ru/',\n",
       " 'https://www.roskvantorium.ru/',\n",
       " 'https://www.rvc.ru/']"
      ]
     },
     "execution_count": 10,
     "metadata": {},
     "output_type": "execute_result"
    }
   ],
   "source": [
    "sorted(list_of_clients)"
   ]
  },
  {
   "cell_type": "code",
   "execution_count": 11,
   "metadata": {},
   "outputs": [
    {
     "data": {
      "text/plain": [
       "['https://vk.com/practicing_futures',\n",
       " 'https://nti-contest.ru/',\n",
       " 'https://rukamifest.com/program',\n",
       " 'https://leader-id.ru/specials/tell-me/',\n",
       " 'http://atlas100.ru',\n",
       " 'http://vyzov2035.ru/',\n",
       " 'https://www.lektorium.tv/rukami',\n",
       " 'https://www.roskvantorium.ru/',\n",
       " 'https://skyeng.ru/',\n",
       " 'http://skvot.2035.university/',\n",
       " 'https://rf2035.net/labs',\n",
       " 'http://projects.nti2035.ru/',\n",
       " 'http://ostrov.2035.university',\n",
       " 'https://www.artlebedev.ru/',\n",
       " 'https://cdo.rf2035.net/',\n",
       " 'http://intensive.2035.university',\n",
       " 'https://leader-id.ru/points/',\n",
       " 'https://id.talent.kruzhok.org/',\n",
       " 'https://sk.ru/academy/',\n",
       " 'https://sochisirius.ru/',\n",
       " 'https://www.rvc.ru/',\n",
       " 'http://eco.2035.dev/',\n",
       " 'https://dodopizza.ru/',\n",
       " 'https://worldskills2019.com/ru/',\n",
       " 'http://dc.2035.university/',\n",
       " 'http://project.lektorium.tv/tutor',\n",
       " 'https://actum.online/',\n",
       " 'https://leader-id.ru/poll/nti_experts/',\n",
       " 'https://leader-id.ru/poll/opentboil/',\n",
       " 'https://data-economy.ru/',\n",
       " 'https://sk.ru/academy/p/hackaton-project.aspx',\n",
       " 'http://upgreat.one/',\n",
       " 'https://labs.2035.university/',\n",
       " 'https://2035.university/',\n",
       " 'http://nti-lesson.ru/',\n",
       " 'http://mindclubs.com/',\n",
       " 'https://www.facebook.com/2035nti/',\n",
       " 'https://nti-contest.ru/students/',\n",
       " 'https://kruzhok.org/iniciativy/post/associaciya',\n",
       " 'http://www.nti2035.ru/docs/2019_Regstandart_NTI_methodrec.pdf',\n",
       " 'https://www.redmadrobot.ru/',\n",
       " 'https://worldskills.ru/',\n",
       " 'https://rukamifest.com/',\n",
       " 'https://leader-id.ru']"
      ]
     },
     "execution_count": 11,
     "metadata": {},
     "output_type": "execute_result"
    }
   ],
   "source": [
    "#удалим дубли переведя во множество потом опять в список.\n",
    "set_of_clients = set(list_of_clients)\n",
    "list_of_clients = []\n",
    "for i in set_of_clients:\n",
    "    list_of_clients.append(i)\n",
    "list_of_clients"
   ]
  },
  {
   "cell_type": "code",
   "execution_count": 12,
   "metadata": {},
   "outputs": [],
   "source": [
    "# Удалим 'http://www.nti2035.ru/docs/2019_Regstandart_NTI_methodrec.pdf' и 'https://vk.com/practicing_futures',\n",
    "# http://eco.2035.dev/' 'https://sk.ru/academy/p/hackaton-project.aspx' 'https://www.facebook.com/2035nti/'..."
   ]
  },
  {
   "cell_type": "code",
   "execution_count": 13,
   "metadata": {},
   "outputs": [
    {
     "data": {
      "text/plain": [
       "['http://atlas100.ru',\n",
       " 'http://dc.2035.university/',\n",
       " 'http://intensive.2035.university',\n",
       " 'http://mindclubs.com/',\n",
       " 'http://nti-lesson.ru/',\n",
       " 'http://ostrov.2035.university',\n",
       " 'http://project.lektorium.tv/tutor',\n",
       " 'http://projects.nti2035.ru/',\n",
       " 'http://skvot.2035.university/',\n",
       " 'http://upgreat.one/',\n",
       " 'http://vyzov2035.ru/',\n",
       " 'https://2035.university/',\n",
       " 'https://actum.online/',\n",
       " 'https://cdo.rf2035.net/',\n",
       " 'https://data-economy.ru/',\n",
       " 'https://dodopizza.ru/',\n",
       " 'https://id.talent.kruzhok.org/',\n",
       " 'https://kruzhok.org/iniciativy/post/associaciya',\n",
       " 'https://labs.2035.university/',\n",
       " 'https://leader-id.ru',\n",
       " 'https://nti-contest.ru/',\n",
       " 'https://rf2035.net/labs',\n",
       " 'https://rukamifest.com/',\n",
       " 'https://sk.ru/academy/',\n",
       " 'https://skyeng.ru/',\n",
       " 'https://sochisirius.ru/',\n",
       " 'https://worldskills.ru/',\n",
       " 'https://worldskills2019.com/ru/',\n",
       " 'https://www.artlebedev.ru/',\n",
       " 'https://www.lektorium.tv/rukami',\n",
       " 'https://www.redmadrobot.ru/',\n",
       " 'https://www.roskvantorium.ru/',\n",
       " 'https://www.rvc.ru/']"
      ]
     },
     "execution_count": 13,
     "metadata": {},
     "output_type": "execute_result"
    }
   ],
   "source": [
    "list_remove = ['http://www.nti2035.ru/docs/2019_Regstandart_NTI_methodrec.pdf', 'https://vk.com/practicing_futures', 'http://eco.2035.dev/', 'https://sk.ru/academy/p/hackaton-project.aspx','https://leader-id.ru/points/',\n",
    " 'https://leader-id.ru/poll/nti_experts/', 'https://leader-id.ru/poll/opentboil/', 'https://leader-id.ru/specials/tell-me/',\n",
    " 'https://rukamifest.com/program', 'https://nti-contest.ru/students/', 'https://www.facebook.com/2035nti/']\n",
    "for i in list_remove:\n",
    "    list_of_clients.remove(i)\n",
    "sorted(list_of_clients)"
   ]
  },
  {
   "cell_type": "code",
   "execution_count": 14,
   "metadata": {},
   "outputs": [
    {
     "data": {
      "text/plain": [
       "Counter({'.ru': 16,\n",
       "         '.tv': 2,\n",
       "         '.university': 6,\n",
       "         '.net': 2,\n",
       "         '.org': 2,\n",
       "         '.com': 3,\n",
       "         '.online': 1,\n",
       "         '.one': 1})"
      ]
     },
     "execution_count": 14,
     "metadata": {},
     "output_type": "execute_result"
    }
   ],
   "source": [
    "# используя collections поситаем и упорядочим сайты.\n",
    "domens = []\n",
    "compile_re = re.compile('\\.\\w+')\n",
    "for el in list_of_clients:\n",
    "    result = compile_re.findall(el)\n",
    "    domens.append(result[-1])\n",
    "collections.Counter(domens)\n"
   ]
  },
  {
   "cell_type": "code",
   "execution_count": 15,
   "metadata": {},
   "outputs": [
    {
     "data": {
      "text/plain": [
       "OrderedDict([('.online', 1),\n",
       "             ('.one', 1),\n",
       "             ('.tv', 2),\n",
       "             ('.net', 2),\n",
       "             ('.org', 2),\n",
       "             ('.com', 3),\n",
       "             ('.university', 6),\n",
       "             ('.ru', 16)])"
      ]
     },
     "execution_count": 15,
     "metadata": {},
     "output_type": "execute_result"
    }
   ],
   "source": [
    "collections.OrderedDict(sorted(collections.Counter(domens).items(), key=lambda t: t[1]))"
   ]
  },
  {
   "cell_type": "markdown",
   "metadata": {},
   "source": [
    "## Чаще всего встречается домен ru 16 раз, затем  university - 6 и com 3 раза. На данный момент будем считать поддомены третьего уровня отдельным сайтами"
   ]
  },
  {
   "cell_type": "markdown",
   "metadata": {},
   "source": [
    "# У скольки проектов их название совпадает с названием их сайта (не url, а именно title)?"
   ]
  },
  {
   "cell_type": "markdown",
   "metadata": {},
   "source": [
    "### Мы подготовили список сайтов. Теперь в цикле можно зайти в каждый из них и посмотреть их title. Сделаем."
   ]
  },
  {
   "cell_type": "code",
   "execution_count": 16,
   "metadata": {},
   "outputs": [
    {
     "data": {
      "text/plain": [
       "['https://nti-contest.ru/',\n",
       " 'http://atlas100.ru',\n",
       " 'http://vyzov2035.ru/',\n",
       " 'https://www.lektorium.tv/rukami',\n",
       " 'https://www.roskvantorium.ru/',\n",
       " 'https://skyeng.ru/',\n",
       " 'http://skvot.2035.university/',\n",
       " 'https://rf2035.net/labs',\n",
       " 'http://projects.nti2035.ru/',\n",
       " 'http://ostrov.2035.university',\n",
       " 'https://www.artlebedev.ru/',\n",
       " 'https://cdo.rf2035.net/',\n",
       " 'http://intensive.2035.university',\n",
       " 'https://id.talent.kruzhok.org/',\n",
       " 'https://sk.ru/academy/',\n",
       " 'https://sochisirius.ru/',\n",
       " 'https://www.rvc.ru/',\n",
       " 'https://dodopizza.ru/',\n",
       " 'https://worldskills2019.com/ru/',\n",
       " 'http://dc.2035.university/',\n",
       " 'http://project.lektorium.tv/tutor',\n",
       " 'https://actum.online/',\n",
       " 'https://data-economy.ru/',\n",
       " 'http://upgreat.one/',\n",
       " 'https://labs.2035.university/',\n",
       " 'https://2035.university/',\n",
       " 'http://nti-lesson.ru/',\n",
       " 'http://mindclubs.com/',\n",
       " 'https://kruzhok.org/iniciativy/post/associaciya',\n",
       " 'https://www.redmadrobot.ru/',\n",
       " 'https://worldskills.ru/',\n",
       " 'https://rukamifest.com/',\n",
       " 'https://leader-id.ru']"
      ]
     },
     "execution_count": 16,
     "metadata": {},
     "output_type": "execute_result"
    }
   ],
   "source": [
    "list_of_clients"
   ]
  },
  {
   "cell_type": "code",
   "execution_count": 17,
   "metadata": {},
   "outputs": [
    {
     "name": "stdout",
     "output_type": "stream",
     "text": [
      "<title>Олимпиада НТИ — Олимпиада Национальной технологической инициативы</title>\n",
      "<title>Атлас новых профессий</title>\n"
     ]
    },
    {
     "ename": "ConnectionError",
     "evalue": "('Connection aborted.', ConnectionResetError(10054, 'Удаленный хост принудительно разорвал существующее подключение', None, 10054, None))",
     "output_type": "error",
     "traceback": [
      "\u001b[1;31m---------------------------------------------------------------------------\u001b[0m",
      "\u001b[1;31mConnectionResetError\u001b[0m                      Traceback (most recent call last)",
      "\u001b[1;32m~\\Anaconda3\\lib\\site-packages\\urllib3\\connectionpool.py\u001b[0m in \u001b[0;36murlopen\u001b[1;34m(self, method, url, body, headers, retries, redirect, assert_same_host, timeout, pool_timeout, release_conn, chunked, body_pos, **response_kw)\u001b[0m\n\u001b[0;32m    599\u001b[0m                                                   \u001b[0mbody\u001b[0m\u001b[1;33m=\u001b[0m\u001b[0mbody\u001b[0m\u001b[1;33m,\u001b[0m \u001b[0mheaders\u001b[0m\u001b[1;33m=\u001b[0m\u001b[0mheaders\u001b[0m\u001b[1;33m,\u001b[0m\u001b[1;33m\u001b[0m\u001b[1;33m\u001b[0m\u001b[0m\n\u001b[1;32m--> 600\u001b[1;33m                                                   chunked=chunked)\n\u001b[0m\u001b[0;32m    601\u001b[0m \u001b[1;33m\u001b[0m\u001b[0m\n",
      "\u001b[1;32m~\\Anaconda3\\lib\\site-packages\\urllib3\\connectionpool.py\u001b[0m in \u001b[0;36m_make_request\u001b[1;34m(self, conn, method, url, timeout, chunked, **httplib_request_kw)\u001b[0m\n\u001b[0;32m    383\u001b[0m                     \u001b[1;31m# otherwise it looks like a programming error was the cause.\u001b[0m\u001b[1;33m\u001b[0m\u001b[1;33m\u001b[0m\u001b[1;33m\u001b[0m\u001b[0m\n\u001b[1;32m--> 384\u001b[1;33m                     \u001b[0msix\u001b[0m\u001b[1;33m.\u001b[0m\u001b[0mraise_from\u001b[0m\u001b[1;33m(\u001b[0m\u001b[0me\u001b[0m\u001b[1;33m,\u001b[0m \u001b[1;32mNone\u001b[0m\u001b[1;33m)\u001b[0m\u001b[1;33m\u001b[0m\u001b[1;33m\u001b[0m\u001b[0m\n\u001b[0m\u001b[0;32m    385\u001b[0m         \u001b[1;32mexcept\u001b[0m \u001b[1;33m(\u001b[0m\u001b[0mSocketTimeout\u001b[0m\u001b[1;33m,\u001b[0m \u001b[0mBaseSSLError\u001b[0m\u001b[1;33m,\u001b[0m \u001b[0mSocketError\u001b[0m\u001b[1;33m)\u001b[0m \u001b[1;32mas\u001b[0m \u001b[0me\u001b[0m\u001b[1;33m:\u001b[0m\u001b[1;33m\u001b[0m\u001b[1;33m\u001b[0m\u001b[0m\n",
      "\u001b[1;32m~\\Anaconda3\\lib\\site-packages\\urllib3\\packages\\six.py\u001b[0m in \u001b[0;36mraise_from\u001b[1;34m(value, from_value)\u001b[0m\n",
      "\u001b[1;32m~\\Anaconda3\\lib\\site-packages\\urllib3\\connectionpool.py\u001b[0m in \u001b[0;36m_make_request\u001b[1;34m(self, conn, method, url, timeout, chunked, **httplib_request_kw)\u001b[0m\n\u001b[0;32m    379\u001b[0m                 \u001b[1;32mtry\u001b[0m\u001b[1;33m:\u001b[0m\u001b[1;33m\u001b[0m\u001b[1;33m\u001b[0m\u001b[0m\n\u001b[1;32m--> 380\u001b[1;33m                     \u001b[0mhttplib_response\u001b[0m \u001b[1;33m=\u001b[0m \u001b[0mconn\u001b[0m\u001b[1;33m.\u001b[0m\u001b[0mgetresponse\u001b[0m\u001b[1;33m(\u001b[0m\u001b[1;33m)\u001b[0m\u001b[1;33m\u001b[0m\u001b[1;33m\u001b[0m\u001b[0m\n\u001b[0m\u001b[0;32m    381\u001b[0m                 \u001b[1;32mexcept\u001b[0m \u001b[0mException\u001b[0m \u001b[1;32mas\u001b[0m \u001b[0me\u001b[0m\u001b[1;33m:\u001b[0m\u001b[1;33m\u001b[0m\u001b[1;33m\u001b[0m\u001b[0m\n",
      "\u001b[1;32m~\\Anaconda3\\lib\\http\\client.py\u001b[0m in \u001b[0;36mgetresponse\u001b[1;34m(self)\u001b[0m\n\u001b[0;32m   1320\u001b[0m             \u001b[1;32mtry\u001b[0m\u001b[1;33m:\u001b[0m\u001b[1;33m\u001b[0m\u001b[1;33m\u001b[0m\u001b[0m\n\u001b[1;32m-> 1321\u001b[1;33m                 \u001b[0mresponse\u001b[0m\u001b[1;33m.\u001b[0m\u001b[0mbegin\u001b[0m\u001b[1;33m(\u001b[0m\u001b[1;33m)\u001b[0m\u001b[1;33m\u001b[0m\u001b[1;33m\u001b[0m\u001b[0m\n\u001b[0m\u001b[0;32m   1322\u001b[0m             \u001b[1;32mexcept\u001b[0m \u001b[0mConnectionError\u001b[0m\u001b[1;33m:\u001b[0m\u001b[1;33m\u001b[0m\u001b[1;33m\u001b[0m\u001b[0m\n",
      "\u001b[1;32m~\\Anaconda3\\lib\\http\\client.py\u001b[0m in \u001b[0;36mbegin\u001b[1;34m(self)\u001b[0m\n\u001b[0;32m    295\u001b[0m         \u001b[1;32mwhile\u001b[0m \u001b[1;32mTrue\u001b[0m\u001b[1;33m:\u001b[0m\u001b[1;33m\u001b[0m\u001b[1;33m\u001b[0m\u001b[0m\n\u001b[1;32m--> 296\u001b[1;33m             \u001b[0mversion\u001b[0m\u001b[1;33m,\u001b[0m \u001b[0mstatus\u001b[0m\u001b[1;33m,\u001b[0m \u001b[0mreason\u001b[0m \u001b[1;33m=\u001b[0m \u001b[0mself\u001b[0m\u001b[1;33m.\u001b[0m\u001b[0m_read_status\u001b[0m\u001b[1;33m(\u001b[0m\u001b[1;33m)\u001b[0m\u001b[1;33m\u001b[0m\u001b[1;33m\u001b[0m\u001b[0m\n\u001b[0m\u001b[0;32m    297\u001b[0m             \u001b[1;32mif\u001b[0m \u001b[0mstatus\u001b[0m \u001b[1;33m!=\u001b[0m \u001b[0mCONTINUE\u001b[0m\u001b[1;33m:\u001b[0m\u001b[1;33m\u001b[0m\u001b[1;33m\u001b[0m\u001b[0m\n",
      "\u001b[1;32m~\\Anaconda3\\lib\\http\\client.py\u001b[0m in \u001b[0;36m_read_status\u001b[1;34m(self)\u001b[0m\n\u001b[0;32m    256\u001b[0m     \u001b[1;32mdef\u001b[0m \u001b[0m_read_status\u001b[0m\u001b[1;33m(\u001b[0m\u001b[0mself\u001b[0m\u001b[1;33m)\u001b[0m\u001b[1;33m:\u001b[0m\u001b[1;33m\u001b[0m\u001b[1;33m\u001b[0m\u001b[0m\n\u001b[1;32m--> 257\u001b[1;33m         \u001b[0mline\u001b[0m \u001b[1;33m=\u001b[0m \u001b[0mstr\u001b[0m\u001b[1;33m(\u001b[0m\u001b[0mself\u001b[0m\u001b[1;33m.\u001b[0m\u001b[0mfp\u001b[0m\u001b[1;33m.\u001b[0m\u001b[0mreadline\u001b[0m\u001b[1;33m(\u001b[0m\u001b[0m_MAXLINE\u001b[0m \u001b[1;33m+\u001b[0m \u001b[1;36m1\u001b[0m\u001b[1;33m)\u001b[0m\u001b[1;33m,\u001b[0m \u001b[1;34m\"iso-8859-1\"\u001b[0m\u001b[1;33m)\u001b[0m\u001b[1;33m\u001b[0m\u001b[1;33m\u001b[0m\u001b[0m\n\u001b[0m\u001b[0;32m    258\u001b[0m         \u001b[1;32mif\u001b[0m \u001b[0mlen\u001b[0m\u001b[1;33m(\u001b[0m\u001b[0mline\u001b[0m\u001b[1;33m)\u001b[0m \u001b[1;33m>\u001b[0m \u001b[0m_MAXLINE\u001b[0m\u001b[1;33m:\u001b[0m\u001b[1;33m\u001b[0m\u001b[1;33m\u001b[0m\u001b[0m\n",
      "\u001b[1;32m~\\Anaconda3\\lib\\socket.py\u001b[0m in \u001b[0;36mreadinto\u001b[1;34m(self, b)\u001b[0m\n\u001b[0;32m    588\u001b[0m             \u001b[1;32mtry\u001b[0m\u001b[1;33m:\u001b[0m\u001b[1;33m\u001b[0m\u001b[1;33m\u001b[0m\u001b[0m\n\u001b[1;32m--> 589\u001b[1;33m                 \u001b[1;32mreturn\u001b[0m \u001b[0mself\u001b[0m\u001b[1;33m.\u001b[0m\u001b[0m_sock\u001b[0m\u001b[1;33m.\u001b[0m\u001b[0mrecv_into\u001b[0m\u001b[1;33m(\u001b[0m\u001b[0mb\u001b[0m\u001b[1;33m)\u001b[0m\u001b[1;33m\u001b[0m\u001b[1;33m\u001b[0m\u001b[0m\n\u001b[0m\u001b[0;32m    590\u001b[0m             \u001b[1;32mexcept\u001b[0m \u001b[0mtimeout\u001b[0m\u001b[1;33m:\u001b[0m\u001b[1;33m\u001b[0m\u001b[1;33m\u001b[0m\u001b[0m\n",
      "\u001b[1;31mConnectionResetError\u001b[0m: [WinError 10054] Удаленный хост принудительно разорвал существующее подключение",
      "\nDuring handling of the above exception, another exception occurred:\n",
      "\u001b[1;31mProtocolError\u001b[0m                             Traceback (most recent call last)",
      "\u001b[1;32m~\\Anaconda3\\lib\\site-packages\\requests\\adapters.py\u001b[0m in \u001b[0;36msend\u001b[1;34m(self, request, stream, timeout, verify, cert, proxies)\u001b[0m\n\u001b[0;32m    448\u001b[0m                     \u001b[0mretries\u001b[0m\u001b[1;33m=\u001b[0m\u001b[0mself\u001b[0m\u001b[1;33m.\u001b[0m\u001b[0mmax_retries\u001b[0m\u001b[1;33m,\u001b[0m\u001b[1;33m\u001b[0m\u001b[1;33m\u001b[0m\u001b[0m\n\u001b[1;32m--> 449\u001b[1;33m                     \u001b[0mtimeout\u001b[0m\u001b[1;33m=\u001b[0m\u001b[0mtimeout\u001b[0m\u001b[1;33m\u001b[0m\u001b[1;33m\u001b[0m\u001b[0m\n\u001b[0m\u001b[0;32m    450\u001b[0m                 )\n",
      "\u001b[1;32m~\\Anaconda3\\lib\\site-packages\\urllib3\\connectionpool.py\u001b[0m in \u001b[0;36murlopen\u001b[1;34m(self, method, url, body, headers, retries, redirect, assert_same_host, timeout, pool_timeout, release_conn, chunked, body_pos, **response_kw)\u001b[0m\n\u001b[0;32m    637\u001b[0m             retries = retries.increment(method, url, error=e, _pool=self,\n\u001b[1;32m--> 638\u001b[1;33m                                         _stacktrace=sys.exc_info()[2])\n\u001b[0m\u001b[0;32m    639\u001b[0m             \u001b[0mretries\u001b[0m\u001b[1;33m.\u001b[0m\u001b[0msleep\u001b[0m\u001b[1;33m(\u001b[0m\u001b[1;33m)\u001b[0m\u001b[1;33m\u001b[0m\u001b[1;33m\u001b[0m\u001b[0m\n",
      "\u001b[1;32m~\\Anaconda3\\lib\\site-packages\\urllib3\\util\\retry.py\u001b[0m in \u001b[0;36mincrement\u001b[1;34m(self, method, url, response, error, _pool, _stacktrace)\u001b[0m\n\u001b[0;32m    367\u001b[0m             \u001b[1;32mif\u001b[0m \u001b[0mread\u001b[0m \u001b[1;32mis\u001b[0m \u001b[1;32mFalse\u001b[0m \u001b[1;32mor\u001b[0m \u001b[1;32mnot\u001b[0m \u001b[0mself\u001b[0m\u001b[1;33m.\u001b[0m\u001b[0m_is_method_retryable\u001b[0m\u001b[1;33m(\u001b[0m\u001b[0mmethod\u001b[0m\u001b[1;33m)\u001b[0m\u001b[1;33m:\u001b[0m\u001b[1;33m\u001b[0m\u001b[1;33m\u001b[0m\u001b[0m\n\u001b[1;32m--> 368\u001b[1;33m                 \u001b[1;32mraise\u001b[0m \u001b[0msix\u001b[0m\u001b[1;33m.\u001b[0m\u001b[0mreraise\u001b[0m\u001b[1;33m(\u001b[0m\u001b[0mtype\u001b[0m\u001b[1;33m(\u001b[0m\u001b[0merror\u001b[0m\u001b[1;33m)\u001b[0m\u001b[1;33m,\u001b[0m \u001b[0merror\u001b[0m\u001b[1;33m,\u001b[0m \u001b[0m_stacktrace\u001b[0m\u001b[1;33m)\u001b[0m\u001b[1;33m\u001b[0m\u001b[1;33m\u001b[0m\u001b[0m\n\u001b[0m\u001b[0;32m    369\u001b[0m             \u001b[1;32melif\u001b[0m \u001b[0mread\u001b[0m \u001b[1;32mis\u001b[0m \u001b[1;32mnot\u001b[0m \u001b[1;32mNone\u001b[0m\u001b[1;33m:\u001b[0m\u001b[1;33m\u001b[0m\u001b[1;33m\u001b[0m\u001b[0m\n",
      "\u001b[1;32m~\\Anaconda3\\lib\\site-packages\\urllib3\\packages\\six.py\u001b[0m in \u001b[0;36mreraise\u001b[1;34m(tp, value, tb)\u001b[0m\n\u001b[0;32m    684\u001b[0m         \u001b[1;32mif\u001b[0m \u001b[0mvalue\u001b[0m\u001b[1;33m.\u001b[0m\u001b[0m__traceback__\u001b[0m \u001b[1;32mis\u001b[0m \u001b[1;32mnot\u001b[0m \u001b[0mtb\u001b[0m\u001b[1;33m:\u001b[0m\u001b[1;33m\u001b[0m\u001b[1;33m\u001b[0m\u001b[0m\n\u001b[1;32m--> 685\u001b[1;33m             \u001b[1;32mraise\u001b[0m \u001b[0mvalue\u001b[0m\u001b[1;33m.\u001b[0m\u001b[0mwith_traceback\u001b[0m\u001b[1;33m(\u001b[0m\u001b[0mtb\u001b[0m\u001b[1;33m)\u001b[0m\u001b[1;33m\u001b[0m\u001b[1;33m\u001b[0m\u001b[0m\n\u001b[0m\u001b[0;32m    686\u001b[0m         \u001b[1;32mraise\u001b[0m \u001b[0mvalue\u001b[0m\u001b[1;33m\u001b[0m\u001b[1;33m\u001b[0m\u001b[0m\n",
      "\u001b[1;32m~\\Anaconda3\\lib\\site-packages\\urllib3\\connectionpool.py\u001b[0m in \u001b[0;36murlopen\u001b[1;34m(self, method, url, body, headers, retries, redirect, assert_same_host, timeout, pool_timeout, release_conn, chunked, body_pos, **response_kw)\u001b[0m\n\u001b[0;32m    599\u001b[0m                                                   \u001b[0mbody\u001b[0m\u001b[1;33m=\u001b[0m\u001b[0mbody\u001b[0m\u001b[1;33m,\u001b[0m \u001b[0mheaders\u001b[0m\u001b[1;33m=\u001b[0m\u001b[0mheaders\u001b[0m\u001b[1;33m,\u001b[0m\u001b[1;33m\u001b[0m\u001b[1;33m\u001b[0m\u001b[0m\n\u001b[1;32m--> 600\u001b[1;33m                                                   chunked=chunked)\n\u001b[0m\u001b[0;32m    601\u001b[0m \u001b[1;33m\u001b[0m\u001b[0m\n",
      "\u001b[1;32m~\\Anaconda3\\lib\\site-packages\\urllib3\\connectionpool.py\u001b[0m in \u001b[0;36m_make_request\u001b[1;34m(self, conn, method, url, timeout, chunked, **httplib_request_kw)\u001b[0m\n\u001b[0;32m    383\u001b[0m                     \u001b[1;31m# otherwise it looks like a programming error was the cause.\u001b[0m\u001b[1;33m\u001b[0m\u001b[1;33m\u001b[0m\u001b[1;33m\u001b[0m\u001b[0m\n\u001b[1;32m--> 384\u001b[1;33m                     \u001b[0msix\u001b[0m\u001b[1;33m.\u001b[0m\u001b[0mraise_from\u001b[0m\u001b[1;33m(\u001b[0m\u001b[0me\u001b[0m\u001b[1;33m,\u001b[0m \u001b[1;32mNone\u001b[0m\u001b[1;33m)\u001b[0m\u001b[1;33m\u001b[0m\u001b[1;33m\u001b[0m\u001b[0m\n\u001b[0m\u001b[0;32m    385\u001b[0m         \u001b[1;32mexcept\u001b[0m \u001b[1;33m(\u001b[0m\u001b[0mSocketTimeout\u001b[0m\u001b[1;33m,\u001b[0m \u001b[0mBaseSSLError\u001b[0m\u001b[1;33m,\u001b[0m \u001b[0mSocketError\u001b[0m\u001b[1;33m)\u001b[0m \u001b[1;32mas\u001b[0m \u001b[0me\u001b[0m\u001b[1;33m:\u001b[0m\u001b[1;33m\u001b[0m\u001b[1;33m\u001b[0m\u001b[0m\n",
      "\u001b[1;32m~\\Anaconda3\\lib\\site-packages\\urllib3\\packages\\six.py\u001b[0m in \u001b[0;36mraise_from\u001b[1;34m(value, from_value)\u001b[0m\n",
      "\u001b[1;32m~\\Anaconda3\\lib\\site-packages\\urllib3\\connectionpool.py\u001b[0m in \u001b[0;36m_make_request\u001b[1;34m(self, conn, method, url, timeout, chunked, **httplib_request_kw)\u001b[0m\n\u001b[0;32m    379\u001b[0m                 \u001b[1;32mtry\u001b[0m\u001b[1;33m:\u001b[0m\u001b[1;33m\u001b[0m\u001b[1;33m\u001b[0m\u001b[0m\n\u001b[1;32m--> 380\u001b[1;33m                     \u001b[0mhttplib_response\u001b[0m \u001b[1;33m=\u001b[0m \u001b[0mconn\u001b[0m\u001b[1;33m.\u001b[0m\u001b[0mgetresponse\u001b[0m\u001b[1;33m(\u001b[0m\u001b[1;33m)\u001b[0m\u001b[1;33m\u001b[0m\u001b[1;33m\u001b[0m\u001b[0m\n\u001b[0m\u001b[0;32m    381\u001b[0m                 \u001b[1;32mexcept\u001b[0m \u001b[0mException\u001b[0m \u001b[1;32mas\u001b[0m \u001b[0me\u001b[0m\u001b[1;33m:\u001b[0m\u001b[1;33m\u001b[0m\u001b[1;33m\u001b[0m\u001b[0m\n",
      "\u001b[1;32m~\\Anaconda3\\lib\\http\\client.py\u001b[0m in \u001b[0;36mgetresponse\u001b[1;34m(self)\u001b[0m\n\u001b[0;32m   1320\u001b[0m             \u001b[1;32mtry\u001b[0m\u001b[1;33m:\u001b[0m\u001b[1;33m\u001b[0m\u001b[1;33m\u001b[0m\u001b[0m\n\u001b[1;32m-> 1321\u001b[1;33m                 \u001b[0mresponse\u001b[0m\u001b[1;33m.\u001b[0m\u001b[0mbegin\u001b[0m\u001b[1;33m(\u001b[0m\u001b[1;33m)\u001b[0m\u001b[1;33m\u001b[0m\u001b[1;33m\u001b[0m\u001b[0m\n\u001b[0m\u001b[0;32m   1322\u001b[0m             \u001b[1;32mexcept\u001b[0m \u001b[0mConnectionError\u001b[0m\u001b[1;33m:\u001b[0m\u001b[1;33m\u001b[0m\u001b[1;33m\u001b[0m\u001b[0m\n",
      "\u001b[1;32m~\\Anaconda3\\lib\\http\\client.py\u001b[0m in \u001b[0;36mbegin\u001b[1;34m(self)\u001b[0m\n\u001b[0;32m    295\u001b[0m         \u001b[1;32mwhile\u001b[0m \u001b[1;32mTrue\u001b[0m\u001b[1;33m:\u001b[0m\u001b[1;33m\u001b[0m\u001b[1;33m\u001b[0m\u001b[0m\n\u001b[1;32m--> 296\u001b[1;33m             \u001b[0mversion\u001b[0m\u001b[1;33m,\u001b[0m \u001b[0mstatus\u001b[0m\u001b[1;33m,\u001b[0m \u001b[0mreason\u001b[0m \u001b[1;33m=\u001b[0m \u001b[0mself\u001b[0m\u001b[1;33m.\u001b[0m\u001b[0m_read_status\u001b[0m\u001b[1;33m(\u001b[0m\u001b[1;33m)\u001b[0m\u001b[1;33m\u001b[0m\u001b[1;33m\u001b[0m\u001b[0m\n\u001b[0m\u001b[0;32m    297\u001b[0m             \u001b[1;32mif\u001b[0m \u001b[0mstatus\u001b[0m \u001b[1;33m!=\u001b[0m \u001b[0mCONTINUE\u001b[0m\u001b[1;33m:\u001b[0m\u001b[1;33m\u001b[0m\u001b[1;33m\u001b[0m\u001b[0m\n",
      "\u001b[1;32m~\\Anaconda3\\lib\\http\\client.py\u001b[0m in \u001b[0;36m_read_status\u001b[1;34m(self)\u001b[0m\n\u001b[0;32m    256\u001b[0m     \u001b[1;32mdef\u001b[0m \u001b[0m_read_status\u001b[0m\u001b[1;33m(\u001b[0m\u001b[0mself\u001b[0m\u001b[1;33m)\u001b[0m\u001b[1;33m:\u001b[0m\u001b[1;33m\u001b[0m\u001b[1;33m\u001b[0m\u001b[0m\n\u001b[1;32m--> 257\u001b[1;33m         \u001b[0mline\u001b[0m \u001b[1;33m=\u001b[0m \u001b[0mstr\u001b[0m\u001b[1;33m(\u001b[0m\u001b[0mself\u001b[0m\u001b[1;33m.\u001b[0m\u001b[0mfp\u001b[0m\u001b[1;33m.\u001b[0m\u001b[0mreadline\u001b[0m\u001b[1;33m(\u001b[0m\u001b[0m_MAXLINE\u001b[0m \u001b[1;33m+\u001b[0m \u001b[1;36m1\u001b[0m\u001b[1;33m)\u001b[0m\u001b[1;33m,\u001b[0m \u001b[1;34m\"iso-8859-1\"\u001b[0m\u001b[1;33m)\u001b[0m\u001b[1;33m\u001b[0m\u001b[1;33m\u001b[0m\u001b[0m\n\u001b[0m\u001b[0;32m    258\u001b[0m         \u001b[1;32mif\u001b[0m \u001b[0mlen\u001b[0m\u001b[1;33m(\u001b[0m\u001b[0mline\u001b[0m\u001b[1;33m)\u001b[0m \u001b[1;33m>\u001b[0m \u001b[0m_MAXLINE\u001b[0m\u001b[1;33m:\u001b[0m\u001b[1;33m\u001b[0m\u001b[1;33m\u001b[0m\u001b[0m\n",
      "\u001b[1;32m~\\Anaconda3\\lib\\socket.py\u001b[0m in \u001b[0;36mreadinto\u001b[1;34m(self, b)\u001b[0m\n\u001b[0;32m    588\u001b[0m             \u001b[1;32mtry\u001b[0m\u001b[1;33m:\u001b[0m\u001b[1;33m\u001b[0m\u001b[1;33m\u001b[0m\u001b[0m\n\u001b[1;32m--> 589\u001b[1;33m                 \u001b[1;32mreturn\u001b[0m \u001b[0mself\u001b[0m\u001b[1;33m.\u001b[0m\u001b[0m_sock\u001b[0m\u001b[1;33m.\u001b[0m\u001b[0mrecv_into\u001b[0m\u001b[1;33m(\u001b[0m\u001b[0mb\u001b[0m\u001b[1;33m)\u001b[0m\u001b[1;33m\u001b[0m\u001b[1;33m\u001b[0m\u001b[0m\n\u001b[0m\u001b[0;32m    590\u001b[0m             \u001b[1;32mexcept\u001b[0m \u001b[0mtimeout\u001b[0m\u001b[1;33m:\u001b[0m\u001b[1;33m\u001b[0m\u001b[1;33m\u001b[0m\u001b[0m\n",
      "\u001b[1;31mProtocolError\u001b[0m: ('Connection aborted.', ConnectionResetError(10054, 'Удаленный хост принудительно разорвал существующее подключение', None, 10054, None))",
      "\nDuring handling of the above exception, another exception occurred:\n",
      "\u001b[1;31mConnectionError\u001b[0m                           Traceback (most recent call last)",
      "\u001b[1;32m<ipython-input-17-5fd5647f6447>\u001b[0m in \u001b[0;36m<module>\u001b[1;34m\u001b[0m\n\u001b[0;32m      1\u001b[0m \u001b[1;32mfor\u001b[0m \u001b[0msite\u001b[0m \u001b[1;32min\u001b[0m \u001b[0mlist_of_clients\u001b[0m\u001b[1;33m:\u001b[0m\u001b[1;33m\u001b[0m\u001b[1;33m\u001b[0m\u001b[0m\n\u001b[0;32m      2\u001b[0m     \u001b[0murl\u001b[0m \u001b[1;33m=\u001b[0m \u001b[0msite\u001b[0m\u001b[1;33m\u001b[0m\u001b[1;33m\u001b[0m\u001b[0m\n\u001b[1;32m----> 3\u001b[1;33m     \u001b[0mresponse\u001b[0m \u001b[1;33m=\u001b[0m \u001b[0mrequests\u001b[0m\u001b[1;33m.\u001b[0m\u001b[0mget\u001b[0m\u001b[1;33m(\u001b[0m\u001b[0murl\u001b[0m\u001b[1;33m)\u001b[0m\u001b[1;33m\u001b[0m\u001b[1;33m\u001b[0m\u001b[0m\n\u001b[0m\u001b[0;32m      4\u001b[0m     \u001b[0mresponse\u001b[0m\u001b[1;33m.\u001b[0m\u001b[0mencoding\u001b[0m\u001b[1;33m=\u001b[0m \u001b[1;34m'utf-8'\u001b[0m\u001b[1;33m\u001b[0m\u001b[1;33m\u001b[0m\u001b[0m\n\u001b[0;32m      5\u001b[0m     \u001b[0mresponse\u001b[0m\u001b[1;33m.\u001b[0m\u001b[0mtext\u001b[0m\u001b[1;33m\u001b[0m\u001b[1;33m\u001b[0m\u001b[0m\n",
      "\u001b[1;32m~\\Anaconda3\\lib\\site-packages\\requests\\api.py\u001b[0m in \u001b[0;36mget\u001b[1;34m(url, params, **kwargs)\u001b[0m\n\u001b[0;32m     73\u001b[0m \u001b[1;33m\u001b[0m\u001b[0m\n\u001b[0;32m     74\u001b[0m     \u001b[0mkwargs\u001b[0m\u001b[1;33m.\u001b[0m\u001b[0msetdefault\u001b[0m\u001b[1;33m(\u001b[0m\u001b[1;34m'allow_redirects'\u001b[0m\u001b[1;33m,\u001b[0m \u001b[1;32mTrue\u001b[0m\u001b[1;33m)\u001b[0m\u001b[1;33m\u001b[0m\u001b[1;33m\u001b[0m\u001b[0m\n\u001b[1;32m---> 75\u001b[1;33m     \u001b[1;32mreturn\u001b[0m \u001b[0mrequest\u001b[0m\u001b[1;33m(\u001b[0m\u001b[1;34m'get'\u001b[0m\u001b[1;33m,\u001b[0m \u001b[0murl\u001b[0m\u001b[1;33m,\u001b[0m \u001b[0mparams\u001b[0m\u001b[1;33m=\u001b[0m\u001b[0mparams\u001b[0m\u001b[1;33m,\u001b[0m \u001b[1;33m**\u001b[0m\u001b[0mkwargs\u001b[0m\u001b[1;33m)\u001b[0m\u001b[1;33m\u001b[0m\u001b[1;33m\u001b[0m\u001b[0m\n\u001b[0m\u001b[0;32m     76\u001b[0m \u001b[1;33m\u001b[0m\u001b[0m\n\u001b[0;32m     77\u001b[0m \u001b[1;33m\u001b[0m\u001b[0m\n",
      "\u001b[1;32m~\\Anaconda3\\lib\\site-packages\\requests\\api.py\u001b[0m in \u001b[0;36mrequest\u001b[1;34m(method, url, **kwargs)\u001b[0m\n\u001b[0;32m     58\u001b[0m     \u001b[1;31m# cases, and look like a memory leak in others.\u001b[0m\u001b[1;33m\u001b[0m\u001b[1;33m\u001b[0m\u001b[1;33m\u001b[0m\u001b[0m\n\u001b[0;32m     59\u001b[0m     \u001b[1;32mwith\u001b[0m \u001b[0msessions\u001b[0m\u001b[1;33m.\u001b[0m\u001b[0mSession\u001b[0m\u001b[1;33m(\u001b[0m\u001b[1;33m)\u001b[0m \u001b[1;32mas\u001b[0m \u001b[0msession\u001b[0m\u001b[1;33m:\u001b[0m\u001b[1;33m\u001b[0m\u001b[1;33m\u001b[0m\u001b[0m\n\u001b[1;32m---> 60\u001b[1;33m         \u001b[1;32mreturn\u001b[0m \u001b[0msession\u001b[0m\u001b[1;33m.\u001b[0m\u001b[0mrequest\u001b[0m\u001b[1;33m(\u001b[0m\u001b[0mmethod\u001b[0m\u001b[1;33m=\u001b[0m\u001b[0mmethod\u001b[0m\u001b[1;33m,\u001b[0m \u001b[0murl\u001b[0m\u001b[1;33m=\u001b[0m\u001b[0murl\u001b[0m\u001b[1;33m,\u001b[0m \u001b[1;33m**\u001b[0m\u001b[0mkwargs\u001b[0m\u001b[1;33m)\u001b[0m\u001b[1;33m\u001b[0m\u001b[1;33m\u001b[0m\u001b[0m\n\u001b[0m\u001b[0;32m     61\u001b[0m \u001b[1;33m\u001b[0m\u001b[0m\n\u001b[0;32m     62\u001b[0m \u001b[1;33m\u001b[0m\u001b[0m\n",
      "\u001b[1;32m~\\Anaconda3\\lib\\site-packages\\requests\\sessions.py\u001b[0m in \u001b[0;36mrequest\u001b[1;34m(self, method, url, params, data, headers, cookies, files, auth, timeout, allow_redirects, proxies, hooks, stream, verify, cert, json)\u001b[0m\n\u001b[0;32m    531\u001b[0m         }\n\u001b[0;32m    532\u001b[0m         \u001b[0msend_kwargs\u001b[0m\u001b[1;33m.\u001b[0m\u001b[0mupdate\u001b[0m\u001b[1;33m(\u001b[0m\u001b[0msettings\u001b[0m\u001b[1;33m)\u001b[0m\u001b[1;33m\u001b[0m\u001b[1;33m\u001b[0m\u001b[0m\n\u001b[1;32m--> 533\u001b[1;33m         \u001b[0mresp\u001b[0m \u001b[1;33m=\u001b[0m \u001b[0mself\u001b[0m\u001b[1;33m.\u001b[0m\u001b[0msend\u001b[0m\u001b[1;33m(\u001b[0m\u001b[0mprep\u001b[0m\u001b[1;33m,\u001b[0m \u001b[1;33m**\u001b[0m\u001b[0msend_kwargs\u001b[0m\u001b[1;33m)\u001b[0m\u001b[1;33m\u001b[0m\u001b[1;33m\u001b[0m\u001b[0m\n\u001b[0m\u001b[0;32m    534\u001b[0m \u001b[1;33m\u001b[0m\u001b[0m\n\u001b[0;32m    535\u001b[0m         \u001b[1;32mreturn\u001b[0m \u001b[0mresp\u001b[0m\u001b[1;33m\u001b[0m\u001b[1;33m\u001b[0m\u001b[0m\n",
      "\u001b[1;32m~\\Anaconda3\\lib\\site-packages\\requests\\sessions.py\u001b[0m in \u001b[0;36msend\u001b[1;34m(self, request, **kwargs)\u001b[0m\n\u001b[0;32m    644\u001b[0m \u001b[1;33m\u001b[0m\u001b[0m\n\u001b[0;32m    645\u001b[0m         \u001b[1;31m# Send the request\u001b[0m\u001b[1;33m\u001b[0m\u001b[1;33m\u001b[0m\u001b[1;33m\u001b[0m\u001b[0m\n\u001b[1;32m--> 646\u001b[1;33m         \u001b[0mr\u001b[0m \u001b[1;33m=\u001b[0m \u001b[0madapter\u001b[0m\u001b[1;33m.\u001b[0m\u001b[0msend\u001b[0m\u001b[1;33m(\u001b[0m\u001b[0mrequest\u001b[0m\u001b[1;33m,\u001b[0m \u001b[1;33m**\u001b[0m\u001b[0mkwargs\u001b[0m\u001b[1;33m)\u001b[0m\u001b[1;33m\u001b[0m\u001b[1;33m\u001b[0m\u001b[0m\n\u001b[0m\u001b[0;32m    647\u001b[0m \u001b[1;33m\u001b[0m\u001b[0m\n\u001b[0;32m    648\u001b[0m         \u001b[1;31m# Total elapsed time of the request (approximately)\u001b[0m\u001b[1;33m\u001b[0m\u001b[1;33m\u001b[0m\u001b[1;33m\u001b[0m\u001b[0m\n",
      "\u001b[1;32m~\\Anaconda3\\lib\\site-packages\\requests\\adapters.py\u001b[0m in \u001b[0;36msend\u001b[1;34m(self, request, stream, timeout, verify, cert, proxies)\u001b[0m\n\u001b[0;32m    496\u001b[0m \u001b[1;33m\u001b[0m\u001b[0m\n\u001b[0;32m    497\u001b[0m         \u001b[1;32mexcept\u001b[0m \u001b[1;33m(\u001b[0m\u001b[0mProtocolError\u001b[0m\u001b[1;33m,\u001b[0m \u001b[0msocket\u001b[0m\u001b[1;33m.\u001b[0m\u001b[0merror\u001b[0m\u001b[1;33m)\u001b[0m \u001b[1;32mas\u001b[0m \u001b[0merr\u001b[0m\u001b[1;33m:\u001b[0m\u001b[1;33m\u001b[0m\u001b[1;33m\u001b[0m\u001b[0m\n\u001b[1;32m--> 498\u001b[1;33m             \u001b[1;32mraise\u001b[0m \u001b[0mConnectionError\u001b[0m\u001b[1;33m(\u001b[0m\u001b[0merr\u001b[0m\u001b[1;33m,\u001b[0m \u001b[0mrequest\u001b[0m\u001b[1;33m=\u001b[0m\u001b[0mrequest\u001b[0m\u001b[1;33m)\u001b[0m\u001b[1;33m\u001b[0m\u001b[1;33m\u001b[0m\u001b[0m\n\u001b[0m\u001b[0;32m    499\u001b[0m \u001b[1;33m\u001b[0m\u001b[0m\n\u001b[0;32m    500\u001b[0m         \u001b[1;32mexcept\u001b[0m \u001b[0mMaxRetryError\u001b[0m \u001b[1;32mas\u001b[0m \u001b[0me\u001b[0m\u001b[1;33m:\u001b[0m\u001b[1;33m\u001b[0m\u001b[1;33m\u001b[0m\u001b[0m\n",
      "\u001b[1;31mConnectionError\u001b[0m: ('Connection aborted.', ConnectionResetError(10054, 'Удаленный хост принудительно разорвал существующее подключение', None, 10054, None))"
     ]
    }
   ],
   "source": [
    "for site in list_of_clients:\n",
    "    url = site\n",
    "    response = requests.get(url)\n",
    "    response.encoding= 'utf-8'\n",
    "    response.text\n",
    "    soup = bs(response.text)\n",
    "    print(soup.title)\n",
    "\n"
   ]
  },
  {
   "cell_type": "markdown",
   "metadata": {},
   "source": [
    "# Сайт http://vyzov2035.ru/ не работает. Отключим ошибки."
   ]
  },
  {
   "cell_type": "code",
   "execution_count": 18,
   "metadata": {},
   "outputs": [
    {
     "name": "stdout",
     "output_type": "stream",
     "text": [
      "Домен https://nti-contest.ru/: <title>Олимпиада НТИ — Олимпиада Национальной технологической инициативы</title>\n",
      "Домен http://atlas100.ru: <title>Атлас новых профессий</title>\n",
      "Домен https://www.lektorium.tv/rukami: <title>Онлайн-школа руководителей технологических кружков</title>\n",
      "Домен https://skyeng.ru/: <title>Изучение английского языка онлайн 🏫 школа Skyeng</title>\n",
      "Домен http://skvot.2035.university/: <title>Каталог курсов НТИ</title>\n",
      "Домен https://rf2035.net/labs: <title>RF 2035</title>\n",
      "Домен http://projects.nti2035.ru/: <title>Проекты НТИ</title>\n",
      "Домен http://ostrov.2035.university: <title>Архипелаг 20.35</title>\n",
      "Домен https://www.artlebedev.ru/: <title>Студия Артемия Лебедева | 25 лет принципиальности</title>\n",
      "Домен https://cdo.rf2035.net/: <title>Main page</title>\n",
      "Домен http://intensive.2035.university: <title>Интенсивы от Университета 20.35</title>\n",
      "Домен https://id.talent.kruzhok.org/: <title>Переадресация</title>\n",
      "Домен https://sk.ru/academy/: <title>Академия наставников</title>\n",
      "Домен https://sochisirius.ru/: <title>Сириус</title>\n",
      "Домен https://www.rvc.ru/: <title>РВК — Российская венчурная компания</title>\n",
      "Домен https://dodopizza.ru/: <title>🍕 Додо Пицца | Сеть пиццерий №1 в России</title>\n",
      "Домен https://worldskills2019.com/ru/: <title>WorldSkills Kazan 2019 | Ворлдскиллс Казань 2019</title>\n",
      "Домен http://dc.2035.university/: <title>Франшизы 2035</title>\n",
      "Домен http://project.lektorium.tv/tutor: <title>Онлайн-курс «Как стать наставником проектов»</title>\n",
      "Домен https://data-economy.ru/: <title>Цифровая экономика России 2024</title>\n",
      "Домен http://upgreat.one/: <title>Технологические конкурсы UP GREAT</title>\n",
      "Домен https://labs.2035.university/: <title>Сбор заявок на участие в реализации программы интенсивного обучения проекта «Остров 10-22»</title>\n",
      "Домен https://2035.university/: <title>Университет 20.35</title>\n",
      "Домен http://nti-lesson.ru/: <title>Урок НТИ</title>\n",
      "Домен http://mindclubs.com/: <title>Клубы мышления - главная </title>\n",
      "Домен https://kruzhok.org/iniciativy/post/associaciya: <title>Ассоциация</title>\n",
      "Домен https://www.redmadrobot.ru/: <title>Redmadrobot — цифровые сервисы для людей</title>\n",
      "Домен https://worldskills.ru/: <title>Главная | WorldSkills Russia</title>\n",
      "Домен https://rukamifest.com/: <title>Международный фестиваль идей и технологий Rukami</title>\n",
      "Домен https://leader-id.ru: <title>Leader-ID</title>\n"
     ]
    }
   ],
   "source": [
    "title = []\n",
    "for site in list_of_clients:\n",
    "    try:\n",
    "        url = site\n",
    "        response = requests.get(url)\n",
    "        response.encoding= 'utf-8'\n",
    "        response.text\n",
    "        soup = bs(response.text)\n",
    "        print(f'Домен {site}: {soup.title}')\n",
    "        title.append(soup.title)\n",
    "    except:\n",
    "        continue\n",
    "\n"
   ]
  },
  {
   "cell_type": "code",
   "execution_count": 19,
   "metadata": {},
   "outputs": [],
   "source": [
    "# Немного не понятен вопрос. У всех сайтов есть название страницы (title). Если имеется ввиду,\n",
    "#у каких сайтов есть название, то у всех, кроме неработающего. Если вопрос в том, какие сайты совпадают  (созвучны домен-title),\n",
    "# додо, студия Артемия Лебедева, RF 2035,Сириус, WorldSkills Russia, Rukami,Redmadrobot, Redmadrobot  "
   ]
  },
  {
   "cell_type": "code",
   "execution_count": 20,
   "metadata": {},
   "outputs": [],
   "source": [
    "list_from_title = []\n",
    "for a in title:\n",
    "    for b in a:\n",
    "        for c in (b.split(' ')):\n",
    "            list_from_title.append(c)\n"
   ]
  },
  {
   "cell_type": "code",
   "execution_count": 24,
   "metadata": {},
   "outputs": [
    {
     "name": "stdout",
     "output_type": "stream",
     "text": [
      "['', 'Leader-ID', '2019', 'GREAT', 'Skyeng', 'Rukami', '-', 'UP', 'WorldSkills', 'RF', '2035', 'Redmadrobot']\n"
     ]
    }
   ],
   "source": [
    "title_domen = []\n",
    "for a in list_from_title:\n",
    "    for b in list_of_clients:\n",
    "        for c in re.findall(a.lower(),b):\n",
    "            if c == a.lower():\n",
    "                title_domen.append(a)\n",
    "\n",
    "print(list(set(title_domen)))"
   ]
  },
  {
   "cell_type": "markdown",
   "metadata": {},
   "source": [
    "### Такие title как 'Leader-ID', '2035', 'RF', 'Rukami', 'WorldSkills', 'GREAT', 'Redmadrobot', '2019', 'UP', 'Skyeng' частично или полностью совпадают с названием домена."
   ]
  },
  {
   "cell_type": "code",
   "execution_count": null,
   "metadata": {},
   "outputs": [],
   "source": []
  }
 ],
 "metadata": {
  "kernelspec": {
   "display_name": "Python 3",
   "language": "python",
   "name": "python3"
  },
  "language_info": {
   "codemirror_mode": {
    "name": "ipython",
    "version": 3
   },
   "file_extension": ".py",
   "mimetype": "text/x-python",
   "name": "python",
   "nbconvert_exporter": "python",
   "pygments_lexer": "ipython3",
   "version": "3.7.3"
  }
 },
 "nbformat": 4,
 "nbformat_minor": 2
}
