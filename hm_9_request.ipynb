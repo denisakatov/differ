{
 "cells": [
  {
   "cell_type": "code",
   "execution_count": 11,
   "metadata": {
    "id": "Cxm28pii80xp"
   },
   "outputs": [],
   "source": [
    "import requests\n",
    "from pprint import pprint"
   ]
  },
  {
   "cell_type": "code",
   "execution_count": 15,
   "metadata": {
    "colab": {
     "base_uri": "https://localhost:8080/"
    },
    "id": "J_xtPIQt8toy",
    "outputId": "bac36fb2-1018-4a4c-a276-313026c41976"
   },
   "outputs": [
    {
     "name": "stdout",
     "output_type": "stream",
     "text": [
      "[{'ds': '2020-11-28T00:00:00.000Z',\n",
      "  'yhat': 171.1629658782,\n",
      "  'yhat_lower': 158.6839107315,\n",
      "  'yhat_upper': 181.8961196706},\n",
      " {'ds': '2020-11-29T00:00:00.000Z',\n",
      "  'yhat': 171.6302159212,\n",
      "  'yhat_lower': 160.1844917283,\n",
      "  'yhat_upper': 183.7225878656},\n",
      " {'ds': '2020-11-30T00:00:00.000Z',\n",
      "  'yhat': 173.576153135,\n",
      "  'yhat_lower': 161.0770204212,\n",
      "  'yhat_upper': 184.9991738278},\n",
      " {'ds': '2020-12-01T00:00:00.000Z',\n",
      "  'yhat': 173.6428108294,\n",
      "  'yhat_lower': 161.866462904,\n",
      "  'yhat_upper': 184.9032321086},\n",
      " {'ds': '2020-12-02T00:00:00.000Z',\n",
      "  'yhat': 173.6292301534,\n",
      "  'yhat_lower': 161.5898613354,\n",
      "  'yhat_upper': 185.6106485494},\n",
      " {'ds': '2020-12-03T00:00:00.000Z',\n",
      "  'yhat': 173.2451763431,\n",
      "  'yhat_lower': 161.3259970558,\n",
      "  'yhat_upper': 184.0998886511},\n",
      " {'ds': '2020-12-04T00:00:00.000Z',\n",
      "  'yhat': 172.7571649044,\n",
      "  'yhat_lower': 160.690040309,\n",
      "  'yhat_upper': 184.570852409},\n",
      " {'ds': '2020-12-05T00:00:00.000Z',\n",
      "  'yhat': 169.1513730497,\n",
      "  'yhat_lower': 156.8083250908,\n",
      "  'yhat_upper': 180.5281272549},\n",
      " {'ds': '2020-12-06T00:00:00.000Z',\n",
      "  'yhat': 169.3773032119,\n",
      "  'yhat_lower': 157.9881390043,\n",
      "  'yhat_upper': 180.4618308048},\n",
      " {'ds': '2020-12-07T00:00:00.000Z',\n",
      "  'yhat': 171.0986656613,\n",
      "  'yhat_lower': 159.2835844028,\n",
      "  'yhat_upper': 183.8692775129},\n",
      " {'ds': '2020-12-08T00:00:00.000Z',\n",
      "  'yhat': 170.9616199785,\n",
      "  'yhat_lower': 159.4335974389,\n",
      "  'yhat_upper': 182.6657298077},\n",
      " {'ds': '2020-12-09T00:00:00.000Z',\n",
      "  'yhat': 170.7690552665,\n",
      "  'yhat_lower': 158.7643216103,\n",
      "  'yhat_upper': 182.638975451},\n",
      " {'ds': '2020-12-10T00:00:00.000Z',\n",
      "  'yhat': 170.2342044884,\n",
      "  'yhat_lower': 158.2054425792,\n",
      "  'yhat_upper': 181.5857828398},\n",
      " {'ds': '2020-12-11T00:00:00.000Z',\n",
      "  'yhat': 169.6265752117,\n",
      "  'yhat_lower': 157.4028240537,\n",
      "  'yhat_upper': 181.6116895415},\n",
      " {'ds': '2020-12-12T00:00:00.000Z',\n",
      "  'yhat': 165.9347747855,\n",
      "  'yhat_lower': 153.7889145761,\n",
      "  'yhat_upper': 178.1281802763},\n",
      " {'ds': '2020-12-13T00:00:00.000Z',\n",
      "  'yhat': 166.1100992837,\n",
      "  'yhat_lower': 153.9943480848,\n",
      "  'yhat_upper': 178.487444009},\n",
      " {'ds': '2020-12-14T00:00:00.000Z',\n",
      "  'yhat': 167.8173554801,\n",
      "  'yhat_lower': 156.007655174,\n",
      "  'yhat_upper': 179.7538784872},\n",
      " {'ds': '2020-12-15T00:00:00.000Z',\n",
      "  'yhat': 167.7030575117,\n",
      "  'yhat_lower': 156.1487779734,\n",
      "  'yhat_upper': 179.486696269},\n",
      " {'ds': '2020-12-16T00:00:00.000Z',\n",
      "  'yhat': 167.5696796312,\n",
      "  'yhat_lower': 155.515048076,\n",
      "  'yhat_upper': 179.6750865556},\n",
      " {'ds': '2020-12-17T00:00:00.000Z',\n",
      "  'yhat': 167.1292615072,\n",
      "  'yhat_lower': 155.2818508813,\n",
      "  'yhat_upper': 179.2016954874}]\n"
     ]
    }
   ],
   "source": [
    "# Пример данных\n",
    "data = {\n",
    "    \"horizon\":\"20\"\n",
    "}\n",
    "\n",
    "# формируем запрос\n",
    "def send_json(data):\n",
    "    url = 'http://127.0.0.1:5000/'\n",
    "    headers = {'content-type': 'application/json'}\n",
    "    response = requests.post(url, json=data, headers=headers)\n",
    "    return response\n",
    "\n",
    "# обращение к серверу\n",
    "if __name__ == '__main__':\n",
    "    response = send_json(data)\n",
    "    pprint(response.json())"
   ]
  },
  {
   "cell_type": "code",
   "execution_count": null,
   "metadata": {
    "id": "6hdMT1q39TuA"
   },
   "outputs": [],
   "source": []
  }
 ],
 "metadata": {
  "colab": {
   "name": "запрос_к_модели.ipynb",
   "provenance": []
  },
  "kernelspec": {
   "display_name": "Python 3",
   "language": "python",
   "name": "python3"
  },
  "language_info": {
   "codemirror_mode": {
    "name": "ipython",
    "version": 3
   },
   "file_extension": ".py",
   "mimetype": "text/x-python",
   "name": "python",
   "nbconvert_exporter": "python",
   "pygments_lexer": "ipython3",
   "version": "3.8.5"
  }
 },
 "nbformat": 4,
 "nbformat_minor": 1
}
